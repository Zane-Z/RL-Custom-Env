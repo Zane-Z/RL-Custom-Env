{
 "cells": [
  {
   "cell_type": "markdown",
   "id": "9a88a7c5-622a-49dd-9768-28cf8a175010",
   "metadata": {},
   "source": [
    "## Install Dependencies"
   ]
  },
  {
   "cell_type": "code",
   "execution_count": 101,
   "id": "e5b977c0-a6fd-4de6-9ed3-b6f725690d01",
   "metadata": {
    "collapsed": true,
    "jupyter": {
     "outputs_hidden": true
    },
    "scrolled": true
   },
   "outputs": [
    {
     "name": "stdout",
     "output_type": "stream",
     "text": [
      "Collecting keras-rl2\n",
      "  Downloading keras_rl2-1.0.5-py3-none-any.whl.metadata (304 bytes)\n",
      "Requirement already satisfied: tensorflow in c:\\users\\zemia\\anaconda3\\lib\\site-packages (from keras-rl2) (2.7.0)\n",
      "Requirement already satisfied: numpy>=1.14.5 in c:\\users\\zemia\\anaconda3\\lib\\site-packages (from tensorflow->keras-rl2) (1.22.3)\n",
      "Requirement already satisfied: absl-py>=0.4.0 in c:\\users\\zemia\\anaconda3\\lib\\site-packages (from tensorflow->keras-rl2) (1.0.0)\n",
      "Requirement already satisfied: astunparse>=1.6.0 in c:\\users\\zemia\\anaconda3\\lib\\site-packages (from tensorflow->keras-rl2) (1.6.3)\n",
      "Requirement already satisfied: libclang>=9.0.1 in c:\\users\\zemia\\anaconda3\\lib\\site-packages (from tensorflow->keras-rl2) (12.0.0)\n",
      "Requirement already satisfied: flatbuffers<3.0,>=1.12 in c:\\users\\zemia\\anaconda3\\lib\\site-packages (from tensorflow->keras-rl2) (2.0)\n",
      "Requirement already satisfied: google-pasta>=0.1.1 in c:\\users\\zemia\\anaconda3\\lib\\site-packages (from tensorflow->keras-rl2) (0.2.0)\n",
      "Requirement already satisfied: h5py>=2.9.0 in c:\\users\\zemia\\anaconda3\\lib\\site-packages (from tensorflow->keras-rl2) (3.6.0)\n",
      "Requirement already satisfied: keras-preprocessing>=1.1.1 in c:\\users\\zemia\\anaconda3\\lib\\site-packages (from tensorflow->keras-rl2) (1.1.2)\n",
      "Requirement already satisfied: opt-einsum>=2.3.2 in c:\\users\\zemia\\anaconda3\\lib\\site-packages (from tensorflow->keras-rl2) (3.3.0)\n",
      "Requirement already satisfied: protobuf>=3.9.2 in c:\\users\\zemia\\anaconda3\\lib\\site-packages (from tensorflow->keras-rl2) (3.20.1)\n",
      "Requirement already satisfied: six>=1.12.0 in c:\\users\\zemia\\anaconda3\\lib\\site-packages (from tensorflow->keras-rl2) (1.16.0)\n",
      "Requirement already satisfied: termcolor>=1.1.0 in c:\\users\\zemia\\anaconda3\\lib\\site-packages (from tensorflow->keras-rl2) (1.1.0)\n",
      "Requirement already satisfied: typing-extensions>=3.6.6 in c:\\users\\zemia\\anaconda3\\lib\\site-packages (from tensorflow->keras-rl2) (4.0.1)\n",
      "Requirement already satisfied: wheel<1.0,>=0.32.0 in c:\\users\\zemia\\anaconda3\\lib\\site-packages (from tensorflow->keras-rl2) (0.44.0)\n",
      "Requirement already satisfied: wrapt>=1.11.0 in c:\\users\\zemia\\anaconda3\\lib\\site-packages (from tensorflow->keras-rl2) (1.13.3)\n",
      "Requirement already satisfied: gast<0.5.0,>=0.2.1 in c:\\users\\zemia\\anaconda3\\lib\\site-packages (from tensorflow->keras-rl2) (0.4.0)\n",
      "Requirement already satisfied: tensorboard~=2.6 in c:\\users\\zemia\\anaconda3\\lib\\site-packages (from tensorflow->keras-rl2) (2.7.0)\n",
      "Requirement already satisfied: tensorflow-estimator<2.8,~=2.7.0rc0 in c:\\users\\zemia\\anaconda3\\lib\\site-packages (from tensorflow->keras-rl2) (2.7.0)\n",
      "Requirement already satisfied: keras<2.8,>=2.7.0rc0 in c:\\users\\zemia\\anaconda3\\lib\\site-packages (from tensorflow->keras-rl2) (2.7.0)\n",
      "Requirement already satisfied: tensorflow-io-gcs-filesystem>=0.21.0 in c:\\users\\zemia\\anaconda3\\lib\\site-packages (from tensorflow->keras-rl2) (0.22.0)\n",
      "Requirement already satisfied: grpcio<2.0,>=1.24.3 in c:\\users\\zemia\\anaconda3\\lib\\site-packages (from tensorflow->keras-rl2) (1.42.0)\n",
      "Requirement already satisfied: google-auth<3,>=1.6.3 in c:\\users\\zemia\\anaconda3\\lib\\site-packages (from tensorboard~=2.6->tensorflow->keras-rl2) (2.3.3)\n",
      "Requirement already satisfied: google-auth-oauthlib<0.5,>=0.4.1 in c:\\users\\zemia\\anaconda3\\lib\\site-packages (from tensorboard~=2.6->tensorflow->keras-rl2) (0.4.6)\n",
      "Requirement already satisfied: markdown>=2.6.8 in c:\\users\\zemia\\anaconda3\\lib\\site-packages (from tensorboard~=2.6->tensorflow->keras-rl2) (3.3.6)\n",
      "Requirement already satisfied: requests<3,>=2.21.0 in c:\\users\\zemia\\anaconda3\\lib\\site-packages (from tensorboard~=2.6->tensorflow->keras-rl2) (2.32.3)\n",
      "Requirement already satisfied: setuptools>=41.0.0 in c:\\users\\zemia\\anaconda3\\lib\\site-packages (from tensorboard~=2.6->tensorflow->keras-rl2) (75.1.0)\n",
      "Requirement already satisfied: tensorboard-data-server<0.7.0,>=0.6.0 in c:\\users\\zemia\\anaconda3\\lib\\site-packages (from tensorboard~=2.6->tensorflow->keras-rl2) (0.6.1)\n",
      "Requirement already satisfied: tensorboard-plugin-wit>=1.6.0 in c:\\users\\zemia\\anaconda3\\lib\\site-packages (from tensorboard~=2.6->tensorflow->keras-rl2) (1.8.0)\n",
      "Requirement already satisfied: werkzeug>=0.11.15 in c:\\users\\zemia\\anaconda3\\lib\\site-packages (from tensorboard~=2.6->tensorflow->keras-rl2) (2.0.2)\n",
      "Requirement already satisfied: cachetools<5.0,>=2.0.0 in c:\\users\\zemia\\anaconda3\\lib\\site-packages (from google-auth<3,>=1.6.3->tensorboard~=2.6->tensorflow->keras-rl2) (4.2.4)\n",
      "Requirement already satisfied: pyasn1-modules>=0.2.1 in c:\\users\\zemia\\anaconda3\\lib\\site-packages (from google-auth<3,>=1.6.3->tensorboard~=2.6->tensorflow->keras-rl2) (0.2.8)\n",
      "Requirement already satisfied: rsa<5,>=3.1.4 in c:\\users\\zemia\\anaconda3\\lib\\site-packages (from google-auth<3,>=1.6.3->tensorboard~=2.6->tensorflow->keras-rl2) (4.8)\n",
      "Requirement already satisfied: requests-oauthlib>=0.7.0 in c:\\users\\zemia\\anaconda3\\lib\\site-packages (from google-auth-oauthlib<0.5,>=0.4.1->tensorboard~=2.6->tensorflow->keras-rl2) (1.3.0)\n",
      "Requirement already satisfied: importlib-metadata>=4.4 in c:\\users\\zemia\\anaconda3\\lib\\site-packages (from markdown>=2.6.8->tensorboard~=2.6->tensorflow->keras-rl2) (7.0.1)\n",
      "Requirement already satisfied: charset-normalizer<4,>=2 in c:\\users\\zemia\\anaconda3\\lib\\site-packages (from requests<3,>=2.21.0->tensorboard~=2.6->tensorflow->keras-rl2) (3.3.2)\n",
      "Requirement already satisfied: idna<4,>=2.5 in c:\\users\\zemia\\anaconda3\\lib\\site-packages (from requests<3,>=2.21.0->tensorboard~=2.6->tensorflow->keras-rl2) (3.7)\n",
      "Requirement already satisfied: urllib3<3,>=1.21.1 in c:\\users\\zemia\\anaconda3\\lib\\site-packages (from requests<3,>=2.21.0->tensorboard~=2.6->tensorflow->keras-rl2) (2.2.3)\n",
      "Requirement already satisfied: certifi>=2017.4.17 in c:\\users\\zemia\\anaconda3\\lib\\site-packages (from requests<3,>=2.21.0->tensorboard~=2.6->tensorflow->keras-rl2) (2024.8.30)\n",
      "Requirement already satisfied: zipp>=0.5 in c:\\users\\zemia\\anaconda3\\lib\\site-packages (from importlib-metadata>=4.4->markdown>=2.6.8->tensorboard~=2.6->tensorflow->keras-rl2) (3.17.0)\n",
      "Requirement already satisfied: pyasn1<0.5.0,>=0.4.6 in c:\\users\\zemia\\anaconda3\\lib\\site-packages (from pyasn1-modules>=0.2.1->google-auth<3,>=1.6.3->tensorboard~=2.6->tensorflow->keras-rl2) (0.4.8)\n",
      "Requirement already satisfied: oauthlib>=3.0.0 in c:\\users\\zemia\\anaconda3\\lib\\site-packages (from requests-oauthlib>=0.7.0->google-auth-oauthlib<0.5,>=0.4.1->tensorboard~=2.6->tensorflow->keras-rl2) (3.1.1)\n",
      "Downloading keras_rl2-1.0.5-py3-none-any.whl (52 kB)\n",
      "Installing collected packages: keras-rl2\n",
      "Successfully installed keras-rl2-1.0.5\n"
     ]
    },
    {
     "name": "stderr",
     "output_type": "stream",
     "text": [
      "WARNING: Error parsing dependencies of gym: Expected matching RIGHT_PARENTHESIS for LEFT_PARENTHESIS, after version specifier\n",
      "    opencv-python (>=3.) ; extra == 'all'\n",
      "                  ~~~~^\n"
     ]
    }
   ],
   "source": [
    "# !pip install tensorflow\n",
    "# !pip install gym\n",
    "# !pip install keras\n",
    "# !pip install keras-rl2"
   ]
  },
  {
   "cell_type": "markdown",
   "id": "854ed64a-ff74-49c1-bf26-09da394a1170",
   "metadata": {},
   "source": [
    "## Test Random Environment with OpenAI Gym"
   ]
  },
  {
   "cell_type": "code",
   "execution_count": 24,
   "id": "16ba60a0-e253-4ca0-b9ac-a83df59fbe77",
   "metadata": {},
   "outputs": [],
   "source": [
    "from gym import Env\n",
    "from gym.spaces import Discrete, Box\n",
    "import numpy as np\n",
    "import random"
   ]
  },
  {
   "cell_type": "code",
   "execution_count": 26,
   "id": "26536574-e601-49de-8bd3-12cdda40bf09",
   "metadata": {},
   "outputs": [],
   "source": [
    "class ShowerEnv(Env):\n",
    "    def __init__(self):\n",
    "        # Actions we can take: Down, Stay, Up\n",
    "        self.action_space = Discrete(3)\n",
    "        # Temperature array\n",
    "        self.observation_space = Box(low=np.array([0]), high=np.array([100]))\n",
    "        # Set start temp\n",
    "        self.state = 38 + random.randint(-3, 3)\n",
    "        # Set shower length\n",
    "        self.shower_length = 60\n",
    "    \n",
    "    def step(self, action):\n",
    "        # Apply action: 0, 1, 2\n",
    "        self.state += action - 1\n",
    "        # Reduce shower length by 1 second\n",
    "        self.shower_length -= 1\n",
    "\n",
    "        # Calculate Reward\n",
    "        if self.state >= 37 and self.state <= 39:\n",
    "            reward = 1\n",
    "        else:\n",
    "            reward = -1\n",
    "\n",
    "        # Check if shower is done\n",
    "        if self.shower_length <= 0:\n",
    "            done = True\n",
    "        else:\n",
    "            done = False\n",
    "\n",
    "        # Apply tempurature noise\n",
    "        self.state += random.randint(-1, 1)\n",
    "\n",
    "        # Set placeholder for info\n",
    "        info = {}\n",
    "\n",
    "        # Return step information\n",
    "        return self.state, reward, done, info\n",
    "    \n",
    "    def render(self): # For Visualization, not used/implemented here\n",
    "        pass\n",
    "        \n",
    "    def reset(self):\n",
    "        self.state = 38 + random.randint(-3, 3)\n",
    "        self.shower_length = 60\n",
    "        return self.state"
   ]
  },
  {
   "cell_type": "code",
   "execution_count": 28,
   "id": "9fac6671-2697-41dd-bdca-90f58c338a6f",
   "metadata": {
    "collapsed": true,
    "jupyter": {
     "outputs_hidden": true
    }
   },
   "outputs": [
    {
     "name": "stderr",
     "output_type": "stream",
     "text": [
      "C:\\Users\\zemia\\anaconda3\\lib\\site-packages\\gym\\logger.py:34: UserWarning: \u001b[33mWARN: Box bound precision lowered by casting to float32\u001b[0m\n",
      "  warnings.warn(colorize(\"%s: %s\" % (\"WARN\", msg % args), \"yellow\"))\n"
     ]
    }
   ],
   "source": [
    "env = ShowerEnv()"
   ]
  },
  {
   "cell_type": "code",
   "execution_count": 84,
   "id": "c7d6a7de-3e5b-48df-b67d-d1ac69209092",
   "metadata": {},
   "outputs": [
    {
     "data": {
      "text/plain": [
       "2"
      ]
     },
     "execution_count": 84,
     "metadata": {},
     "output_type": "execute_result"
    }
   ],
   "source": [
    "env.action_space.sample()"
   ]
  },
  {
   "cell_type": "code",
   "execution_count": 42,
   "id": "41aa5c8c-3d5e-4d79-a782-3f500ce70058",
   "metadata": {},
   "outputs": [
    {
     "data": {
      "text/plain": [
       "array([88.02127], dtype=float32)"
      ]
     },
     "execution_count": 42,
     "metadata": {},
     "output_type": "execute_result"
    }
   ],
   "source": [
    "env.observation_space.sample()"
   ]
  },
  {
   "cell_type": "code",
   "execution_count": 5,
   "id": "084977cf-ca8a-4572-a4c0-b6c213b54543",
   "metadata": {},
   "outputs": [],
   "source": [
    "# env = gym.make('CartPole-v0')\n",
    "# states = env.observation_space.shape[0]\n",
    "# actions = env.action_space.n"
   ]
  },
  {
   "cell_type": "code",
   "execution_count": 44,
   "id": "13ae4590-846b-4e70-b502-422ef57dc8f8",
   "metadata": {},
   "outputs": [
    {
     "name": "stdout",
     "output_type": "stream",
     "text": [
      "Episode:1 Score:-30\n",
      "Episode:2 Score:-28\n",
      "Episode:3 Score:-54\n",
      "Episode:4 Score:-60\n",
      "Episode:5 Score:-32\n",
      "Episode:6 Score:-56\n",
      "Episode:7 Score:-8\n",
      "Episode:8 Score:-16\n",
      "Episode:9 Score:-20\n",
      "Episode:10 Score:-54\n"
     ]
    }
   ],
   "source": [
    "episodes = 10\n",
    "for episode in range(1, episodes+1):\n",
    "    state = env.reset()\n",
    "    done = False\n",
    "    score = 0\n",
    "\n",
    "    while not done:\n",
    "        # env.render()\n",
    "        # action = random.choice([0,1])\n",
    "        action = env.action_space.sample()\n",
    "        n_state, reward, done, info = env.step(action)\n",
    "        score += reward\n",
    "    print('Episode:{} Score:{}'.format(episode, score))"
   ]
  },
  {
   "cell_type": "markdown",
   "id": "8e769945-670e-4497-8f97-2c47fab0ecb7",
   "metadata": {},
   "source": [
    "## Create a Deep Learning Model with Keras"
   ]
  },
  {
   "cell_type": "code",
   "execution_count": 86,
   "id": "f0457c8f-3305-4608-9eb9-c5d0644d772c",
   "metadata": {},
   "outputs": [],
   "source": [
    "from tensorflow.keras.models import Sequential\n",
    "from tensorflow.keras.layers import Dense, Flatten\n",
    "from tensorflow.keras.optimizers import Adam"
   ]
  },
  {
   "cell_type": "code",
   "execution_count": 88,
   "id": "ec1f7b1c-ca4f-475a-abca-14ac5530fe46",
   "metadata": {},
   "outputs": [],
   "source": [
    "states = env.observation_space.shape\n",
    "actions = env.action_space.n"
   ]
  },
  {
   "cell_type": "code",
   "execution_count": 90,
   "id": "abe64a2b-50d7-4534-8cc3-dc6493e61860",
   "metadata": {},
   "outputs": [
    {
     "data": {
      "text/plain": [
       "3"
      ]
     },
     "execution_count": 90,
     "metadata": {},
     "output_type": "execute_result"
    }
   ],
   "source": [
    "actions"
   ]
  },
  {
   "cell_type": "code",
   "execution_count": 92,
   "id": "7ff47b84-b872-4899-b278-7ea364e7aed3",
   "metadata": {},
   "outputs": [],
   "source": [
    "def build_model(states, actions):\n",
    "    model = Sequential()\n",
    "    # model.add(Flatten(input_shape = (1, states)))\n",
    "    model.add(Dense(24, activation = 'relu', input_shape = states))\n",
    "    model.add(Dense(24, activation = 'relu'))\n",
    "    model.add(Dense(actions, activation = 'linear'))\n",
    "    return model"
   ]
  },
  {
   "cell_type": "code",
   "execution_count": 113,
   "id": "f14b3b6b-8233-43f7-b24e-029d017eb826",
   "metadata": {},
   "outputs": [],
   "source": [
    "del model"
   ]
  },
  {
   "cell_type": "code",
   "execution_count": 115,
   "id": "a58390d9-1456-4925-81bf-8a45f31ad730",
   "metadata": {},
   "outputs": [],
   "source": [
    "model = build_model(states, actions)"
   ]
  },
  {
   "cell_type": "code",
   "execution_count": 117,
   "id": "b76f1975-84b1-45bb-ac87-921db284020c",
   "metadata": {},
   "outputs": [
    {
     "name": "stdout",
     "output_type": "stream",
     "text": [
      "Model: \"sequential_4\"\n",
      "_________________________________________________________________\n",
      " Layer (type)                Output Shape              Param #   \n",
      "=================================================================\n",
      " dense_7 (Dense)             (None, 24)                48        \n",
      "                                                                 \n",
      " dense_8 (Dense)             (None, 24)                600       \n",
      "                                                                 \n",
      " dense_9 (Dense)             (None, 3)                 75        \n",
      "                                                                 \n",
      "=================================================================\n",
      "Total params: 723\n",
      "Trainable params: 723\n",
      "Non-trainable params: 0\n",
      "_________________________________________________________________\n"
     ]
    }
   ],
   "source": [
    "model.summary()"
   ]
  },
  {
   "cell_type": "markdown",
   "id": "21ed9e4f-60b4-4dde-8c4e-f4b7d117b273",
   "metadata": {},
   "source": [
    "## Build Agent with Keras-RL"
   ]
  },
  {
   "cell_type": "code",
   "execution_count": 120,
   "id": "51a75bcd-a6ab-4fe1-a88a-00147b13a37b",
   "metadata": {},
   "outputs": [],
   "source": [
    "from rl.agents import DQNAgent\n",
    "from rl.policy import BoltzmannQPolicy\n",
    "from rl.memory import SequentialMemory"
   ]
  },
  {
   "cell_type": "code",
   "execution_count": 122,
   "id": "8cacd139-e861-49f3-9329-2a803c2ed4e1",
   "metadata": {},
   "outputs": [],
   "source": [
    "def build_agent(model, actions):\n",
    "    policy = BoltzmannQPolicy()\n",
    "    memory = SequentialMemory(limit = 50000, window_length = 1)\n",
    "    dqn = DQNAgent(model = model, memory = memory, policy = policy, \n",
    "                  nb_actions = actions, nb_steps_warmup = 10, target_model_update = 1e-2)\n",
    "    return dqn"
   ]
  },
  {
   "cell_type": "code",
   "execution_count": 124,
   "id": "be544160-1770-4a7e-a213-7bc0cfea4182",
   "metadata": {},
   "outputs": [
    {
     "name": "stdout",
     "output_type": "stream",
     "text": [
      "Training for 50000 steps ...\n",
      "Interval 1 (0 steps performed)\n",
      "    1/10000 [..............................] - ETA: 5:29 - reward: 1.0000"
     ]
    },
    {
     "name": "stderr",
     "output_type": "stream",
     "text": [
      "C:\\Users\\zemia\\anaconda3\\lib\\site-packages\\keras\\engine\\training_v1.py:2079: UserWarning: `Model.state_updates` will be removed in a future version. This property should not be used in TensorFlow 2.0, as `updates` are applied automatically.\n",
      "  updates=self.state_updates,\n",
      "C:\\Users\\zemia\\anaconda3\\lib\\site-packages\\rl\\memory.py:37: UserWarning: Not enough entries to sample without replacement. Consider increasing your warm-up phase to avoid oversampling!\n",
      "  warnings.warn('Not enough entries to sample without replacement. Consider increasing your warm-up phase to avoid oversampling!')\n"
     ]
    },
    {
     "name": "stdout",
     "output_type": "stream",
     "text": [
      "10000/10000 [==============================] - 25s 3ms/step - reward: -0.6520\n",
      "166 episodes - episode_reward: -39.205 [-60.000, 32.000] - loss: 2.181 - mae: 12.289 - mean_q: -16.676\n",
      "\n",
      "Interval 2 (10000 steps performed)\n",
      "10000/10000 [==============================] - 25s 3ms/step - reward: -0.5506\n",
      "167 episodes - episode_reward: -33.042 [-60.000, 22.000] - loss: 3.089 - mae: 13.158 - mean_q: -18.958\n",
      "\n",
      "Interval 3 (20000 steps performed)\n",
      "10000/10000 [==============================] - 26s 3ms/step - reward: -0.5024\n",
      "167 episodes - episode_reward: -30.084 [-60.000, 18.000] - loss: 2.753 - mae: 12.062 - mean_q: -17.342\n",
      "\n",
      "Interval 4 (30000 steps performed)\n",
      "10000/10000 [==============================] - 26s 3ms/step - reward: -0.3842\n",
      "166 episodes - episode_reward: -22.964 [-60.000, 20.000] - loss: 2.168 - mae: 10.416 - mean_q: -14.865\n",
      "\n",
      "Interval 5 (40000 steps performed)\n",
      "10000/10000 [==============================] - 26s 3ms/step - reward: -0.2132\n",
      "done, took 128.455 seconds\n"
     ]
    },
    {
     "data": {
      "text/plain": [
       "<keras.callbacks.History at 0x24b0a8aa7c0>"
      ]
     },
     "execution_count": 124,
     "metadata": {},
     "output_type": "execute_result"
    }
   ],
   "source": [
    "dqn = build_agent(model, actions)\n",
    "dqn.compile(Adam(lr=1e-3), metrics = ['mae'])\n",
    "dqn.fit(env, nb_steps = 50000, visualize = False, verbose = 1)"
   ]
  },
  {
   "cell_type": "code",
   "execution_count": 126,
   "id": "16e371e0-88f0-4bfa-bfb4-64c8388b6741",
   "metadata": {},
   "outputs": [
    {
     "name": "stdout",
     "output_type": "stream",
     "text": [
      "Testing for 100 episodes ...\n",
      "Episode 1: reward: 60.000, steps: 60\n",
      "Episode 2: reward: 58.000, steps: 60\n",
      "Episode 3: reward: 60.000, steps: 60\n",
      "Episode 4: reward: 60.000, steps: 60\n",
      "Episode 5: reward: 60.000, steps: 60\n",
      "Episode 6: reward: 58.000, steps: 60\n",
      "Episode 7: reward: 60.000, steps: 60\n",
      "Episode 8: reward: 60.000, steps: 60\n",
      "Episode 9: reward: 58.000, steps: 60\n",
      "Episode 10: reward: 60.000, steps: 60\n",
      "Episode 11: reward: 60.000, steps: 60\n",
      "Episode 12: reward: 60.000, steps: 60\n",
      "Episode 13: reward: 60.000, steps: 60\n",
      "Episode 14: reward: 58.000, steps: 60\n",
      "Episode 15: reward: 60.000, steps: 60\n",
      "Episode 16: reward: 60.000, steps: 60\n",
      "Episode 17: reward: 58.000, steps: 60\n",
      "Episode 18: reward: 60.000, steps: 60\n",
      "Episode 19: reward: 58.000, steps: 60\n",
      "Episode 20: reward: 60.000, steps: 60\n",
      "Episode 21: reward: 60.000, steps: 60\n",
      "Episode 22: reward: 58.000, steps: 60\n",
      "Episode 23: reward: 60.000, steps: 60\n",
      "Episode 24: reward: 58.000, steps: 60\n",
      "Episode 25: reward: 60.000, steps: 60\n",
      "Episode 26: reward: 60.000, steps: 60\n",
      "Episode 27: reward: 58.000, steps: 60\n",
      "Episode 28: reward: 58.000, steps: 60\n",
      "Episode 29: reward: 60.000, steps: 60\n",
      "Episode 30: reward: 60.000, steps: 60\n",
      "Episode 31: reward: 60.000, steps: 60\n",
      "Episode 32: reward: 60.000, steps: 60\n",
      "Episode 33: reward: 60.000, steps: 60\n",
      "Episode 34: reward: 60.000, steps: 60\n",
      "Episode 35: reward: 60.000, steps: 60\n",
      "Episode 36: reward: 56.000, steps: 60\n",
      "Episode 37: reward: 58.000, steps: 60\n",
      "Episode 38: reward: 60.000, steps: 60\n",
      "Episode 39: reward: 60.000, steps: 60\n",
      "Episode 40: reward: 56.000, steps: 60\n",
      "Episode 41: reward: 58.000, steps: 60\n",
      "Episode 42: reward: 60.000, steps: 60\n",
      "Episode 43: reward: 58.000, steps: 60\n",
      "Episode 44: reward: 60.000, steps: 60\n",
      "Episode 45: reward: 58.000, steps: 60\n",
      "Episode 46: reward: 60.000, steps: 60\n",
      "Episode 47: reward: 60.000, steps: 60\n",
      "Episode 48: reward: 58.000, steps: 60\n",
      "Episode 49: reward: 58.000, steps: 60\n",
      "Episode 50: reward: 60.000, steps: 60\n",
      "Episode 51: reward: 60.000, steps: 60\n",
      "Episode 52: reward: 60.000, steps: 60\n",
      "Episode 53: reward: 58.000, steps: 60\n",
      "Episode 54: reward: 58.000, steps: 60\n",
      "Episode 55: reward: 56.000, steps: 60\n",
      "Episode 56: reward: 60.000, steps: 60\n",
      "Episode 57: reward: 54.000, steps: 60\n",
      "Episode 58: reward: 60.000, steps: 60\n",
      "Episode 59: reward: 58.000, steps: 60\n",
      "Episode 60: reward: 56.000, steps: 60\n",
      "Episode 61: reward: 60.000, steps: 60\n",
      "Episode 62: reward: 58.000, steps: 60\n",
      "Episode 63: reward: 60.000, steps: 60\n",
      "Episode 64: reward: 58.000, steps: 60\n",
      "Episode 65: reward: 56.000, steps: 60\n",
      "Episode 66: reward: 60.000, steps: 60\n",
      "Episode 67: reward: 60.000, steps: 60\n",
      "Episode 68: reward: 58.000, steps: 60\n",
      "Episode 69: reward: 60.000, steps: 60\n",
      "Episode 70: reward: 60.000, steps: 60\n",
      "Episode 71: reward: 60.000, steps: 60\n",
      "Episode 72: reward: 60.000, steps: 60\n",
      "Episode 73: reward: 58.000, steps: 60\n",
      "Episode 74: reward: 60.000, steps: 60\n",
      "Episode 75: reward: 60.000, steps: 60\n",
      "Episode 76: reward: 60.000, steps: 60\n",
      "Episode 77: reward: 60.000, steps: 60\n",
      "Episode 78: reward: 60.000, steps: 60\n",
      "Episode 79: reward: 60.000, steps: 60\n",
      "Episode 80: reward: 56.000, steps: 60\n",
      "Episode 81: reward: 60.000, steps: 60\n",
      "Episode 82: reward: 58.000, steps: 60\n",
      "Episode 83: reward: 60.000, steps: 60\n",
      "Episode 84: reward: 60.000, steps: 60\n",
      "Episode 85: reward: 60.000, steps: 60\n",
      "Episode 86: reward: 60.000, steps: 60\n",
      "Episode 87: reward: 60.000, steps: 60\n",
      "Episode 88: reward: 60.000, steps: 60\n",
      "Episode 89: reward: 60.000, steps: 60\n",
      "Episode 90: reward: 60.000, steps: 60\n",
      "Episode 91: reward: 60.000, steps: 60\n",
      "Episode 92: reward: 60.000, steps: 60\n",
      "Episode 93: reward: 60.000, steps: 60\n",
      "Episode 94: reward: 60.000, steps: 60\n",
      "Episode 95: reward: 60.000, steps: 60\n",
      "Episode 96: reward: 58.000, steps: 60\n",
      "Episode 97: reward: 60.000, steps: 60\n",
      "Episode 98: reward: 60.000, steps: 60\n",
      "Episode 99: reward: 60.000, steps: 60\n",
      "Episode 100: reward: 60.000, steps: 60\n",
      "59.2\n"
     ]
    }
   ],
   "source": [
    "scores = dqn.test(env, nb_episodes = 100, visualize = False)\n",
    "print(np.mean(scores.history['episode_reward']))"
   ]
  },
  {
   "cell_type": "code",
   "execution_count": null,
   "id": "7927d678-9d4f-47d0-8740-7d0a261f7cb8",
   "metadata": {},
   "outputs": [],
   "source": []
  }
 ],
 "metadata": {
  "kernelspec": {
   "display_name": "Python 3 (ipykernel)",
   "language": "python",
   "name": "python3"
  },
  "language_info": {
   "codemirror_mode": {
    "name": "ipython",
    "version": 3
   },
   "file_extension": ".py",
   "mimetype": "text/x-python",
   "name": "python",
   "nbconvert_exporter": "python",
   "pygments_lexer": "ipython3",
   "version": "3.9.20"
  }
 },
 "nbformat": 4,
 "nbformat_minor": 5
}
